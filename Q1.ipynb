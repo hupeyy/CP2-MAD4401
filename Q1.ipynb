{
 "cells": [
  {
   "cell_type": "code",
   "execution_count": 42,
   "id": "f61dc6f8-6de1-4f60-8a4a-3e60bd2d640b",
   "metadata": {},
   "outputs": [
    {
     "name": "stdout",
     "output_type": "stream",
     "text": [
      "P_1,2(x):  0.16414227 - 0.69699924·x\n",
      "P_0,1,2(x):  7.26890188 - 10.82128168·x + 3.5523798·x²\n",
      "P_1,2,3(x):  9.30361705 - 13.7207508·x + 4.56973739·x²\n",
      "P_0,1,2,3(x):  4.72550792 - 4.65355132·x - 1.34365358·x² + 1.27169698·x³\n",
      "\n",
      "error for P_1,2(x): 0.13939984863348942\n",
      "error for P_0,1,2(x): 0.032828454554549746\n",
      "error for P_1,2,3(x): 0.0023077270054477905\n",
      "error for P_0,1,2,3(x): 0.017568090779986778\n"
     ]
    }
   ],
   "source": [
    "import numpy as np\n",
    "from scipy.interpolate import lagrange\n",
    "from numpy.polynomial.polynomial import Polynomial\n",
    "import math\n",
    "\n",
    "x0, x1, x2, x3 = 1, 1.25, 1.6, 1.8\n",
    "\n",
    "def func(x):\n",
    "    return math.sin(math.pi * x)\n",
    "\n",
    "a1 = np.array([x1, x2])\n",
    "b1 = np.array([func(x1), func(x2)])\n",
    "f1 = lagrange(a1, b1)\n",
    "f1_polynomial = np.polynomial.Polynomial(f1.coef[::-1])\n",
    "print(\"P_1,2(x): \", f1_polynomial)\n",
    "\n",
    "a2 = np.array([x0, x1, x2])\n",
    "b2 = np.array([func(x0), func(x1), func(x2)])\n",
    "f2 = lagrange(a2, b2)\n",
    "f2_polynomial = np.polynomial.Polynomial(f2.coef[::-1])\n",
    "print(\"P_0,1,2(x): \", f2_polynomial)\n",
    "\n",
    "a3 = np.array([x1, x2, x3])\n",
    "b3 = np.array([func(x1), func(x2), func(x3)])\n",
    "f3 = lagrange(a3, b3)\n",
    "f3_polynomial = np.polynomial.Polynomial(f3.coef[::-1])\n",
    "print(\"P_1,2,3(x): \", f3_polynomial)\n",
    "\n",
    "a4 = np.array([x0, x1, x2, x3])\n",
    "b4 = np.array([func(x0), func(x1), func(x2), func(x3)])\n",
    "f4 = lagrange(a4, b4)\n",
    "f4_polynomial = np.polynomial.Polynomial(f4.coef[::-1])\n",
    "print(\"P_0,1,2,3(x): \", f4_polynomial)\n",
    "\n",
    "print()\n",
    "\n",
    "def calcError(appx):\n",
    "    actual_val = func(1.4)\n",
    "    appx_val = appx(1.4)\n",
    "    return abs(actual_val - appx_val)\n",
    "\n",
    "print(\"error for P_1,2(x):\", calcError(f1))\n",
    "print(\"error for P_0,1,2(x):\", calcError(f2))\n",
    "print(\"error for P_1,2,3(x):\", calcError(f3))\n",
    "print(\"error for P_0,1,2,3(x):\", calcError(f4))\n",
    "\n",
    "# P_1,2,3 has the smallest absolute error, so this is the best polynomial"
   ]
  },
  {
   "cell_type": "code",
   "execution_count": null,
   "id": "0fda222e-bd78-4969-8ec0-3684c8c9e661",
   "metadata": {},
   "outputs": [],
   "source": []
  }
 ],
 "metadata": {
  "kernelspec": {
   "display_name": "Python 3 (ipykernel)",
   "language": "python",
   "name": "python3"
  },
  "language_info": {
   "codemirror_mode": {
    "name": "ipython",
    "version": 3
   },
   "file_extension": ".py",
   "mimetype": "text/x-python",
   "name": "python",
   "nbconvert_exporter": "python",
   "pygments_lexer": "ipython3",
   "version": "3.10.9"
  }
 },
 "nbformat": 4,
 "nbformat_minor": 5
}
