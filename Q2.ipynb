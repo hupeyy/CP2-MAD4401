{
 "cells": [
  {
   "cell_type": "markdown",
   "id": "cd90c8f0",
   "metadata": {},
   "source": [
    "## Part a"
   ]
  },
  {
   "cell_type": "code",
   "execution_count": 6,
   "id": "7094108d",
   "metadata": {},
   "outputs": [],
   "source": [
    "import numpy as np"
   ]
  },
  {
   "cell_type": "code",
   "execution_count": 7,
   "id": "cc96ca59",
   "metadata": {},
   "outputs": [],
   "source": [
    "x = np.array([0.1, 0.2, 0.3, 0.4])\n",
    "f_x = np.array([[-0.62049958], [-0.28398668], [0.00660095], [0.24842440]])"
   ]
  },
  {
   "cell_type": "code",
   "execution_count": 8,
   "id": "9c735120",
   "metadata": {},
   "outputs": [],
   "source": [
    "def divided_difference_table(x, f_x):\n",
    "    n = len(x)\n",
    "    # make n x n matrix\n",
    "    table = np.zeros((n,n))\n",
    "    \n",
    "    # initialize first col\n",
    "    for i in range(n):\n",
    "        table[i][0] = f_x[i]\n",
    "    \n",
    "    # divided difference algorithm\n",
    "    for j in range(1,n):\n",
    "        for i in range(n-j):\n",
    "            table[i][j] = (table[i+1][j-1] - table[i][j-1]) / (x[i+j] - x[i])\n",
    "        \n",
    "    return table"
   ]
  },
  {
   "cell_type": "code",
   "execution_count": 9,
   "id": "7c171515",
   "metadata": {},
   "outputs": [
    {
     "data": {
      "text/plain": [
       "array([[-0.62049958,  3.365129  , -2.2962635 , -0.47315167],\n",
       "       [-0.28398668,  2.9058763 , -2.438209  ,  0.        ],\n",
       "       [ 0.00660095,  2.4182345 ,  0.        ,  0.        ],\n",
       "       [ 0.2484244 ,  0.        ,  0.        ,  0.        ]])"
      ]
     },
     "execution_count": 9,
     "metadata": {},
     "output_type": "execute_result"
    }
   ],
   "source": [
    "table = divided_difference_table(x, f_x)\n",
    "table"
   ]
  },
  {
   "cell_type": "code",
   "execution_count": 10,
   "id": "f3cfd7ca",
   "metadata": {},
   "outputs": [],
   "source": [
    "def newton_polynomial(x, x_pred, coefficients):\n",
    "    total = 0\n",
    "    n = len(x)\n",
    "    for i in range(n):\n",
    "        temp = coefficients[i]\n",
    "        for j in range(i):\n",
    "            temp *= x_pred-x[j]\n",
    "        total += temp\n",
    "        \n",
    "    return total"
   ]
  },
  {
   "cell_type": "code",
   "execution_count": 11,
   "id": "8b58d9f4",
   "metadata": {},
   "outputs": [
    {
     "data": {
      "text/plain": [
       "-0.13277477437500004"
      ]
     },
     "execution_count": 11,
     "metadata": {},
     "output_type": "execute_result"
    }
   ],
   "source": [
    "coeffs = table[0]\n",
    "x_pred = .25\n",
    "pred = newton_polynomial(x, x_pred, coeffs)\n",
    "pred"
   ]
  },
  {
   "cell_type": "markdown",
   "id": "2cbf3b2d",
   "metadata": {},
   "source": [
    "## Part b"
   ]
  },
  {
   "cell_type": "code",
   "execution_count": 12,
   "id": "e27b1ee1",
   "metadata": {},
   "outputs": [
    {
     "data": {
      "text/plain": [
       "(array([0.1, 0.2, 0.3, 0.4, 0.5]),\n",
       " array([-0.62049958, -0.28398668,  0.00660095,  0.2484244 ,  0.1283213 ]))"
      ]
     },
     "execution_count": 12,
     "metadata": {},
     "output_type": "execute_result"
    }
   ],
   "source": [
    "x_b = np.append(x, .5)\n",
    "f_x_b = np.append(f_x, 0.12832130)\n",
    "x_b, f_x_b"
   ]
  },
  {
   "cell_type": "code",
   "execution_count": 13,
   "id": "8a0753f6",
   "metadata": {},
   "outputs": [
    {
     "data": {
      "text/plain": [
       "array([[-6.20499580e-01,  3.36512900e+00, -2.29626350e+00,\n",
       "        -4.73151667e-01, -1.29301442e+02],\n",
       "       [-2.83986680e-01,  2.90587630e+00, -2.43820900e+00,\n",
       "        -5.21937283e+01,  0.00000000e+00],\n",
       "       [ 6.60095000e-03,  2.41823450e+00, -1.80963275e+01,\n",
       "         0.00000000e+00,  0.00000000e+00],\n",
       "       [ 2.48424400e-01, -1.20103100e+00,  0.00000000e+00,\n",
       "         0.00000000e+00,  0.00000000e+00],\n",
       "       [ 1.28321300e-01,  0.00000000e+00,  0.00000000e+00,\n",
       "         0.00000000e+00,  0.00000000e+00]])"
      ]
     },
     "execution_count": 13,
     "metadata": {},
     "output_type": "execute_result"
    }
   ],
   "source": [
    "table = divided_difference_table(x_b, f_x_b)\n",
    "table"
   ]
  },
  {
   "cell_type": "code",
   "execution_count": 14,
   "id": "f2c28a95",
   "metadata": {},
   "outputs": [
    {
     "data": {
      "text/plain": [
       "-0.14004798046875003"
      ]
     },
     "execution_count": 14,
     "metadata": {},
     "output_type": "execute_result"
    }
   ],
   "source": [
    "coeffs = table[0]\n",
    "x_pred = .25\n",
    "pred = newton_polynomial(x_b, x_pred, coeffs)\n",
    "pred"
   ]
  },
  {
   "cell_type": "markdown",
   "id": "33a745bc",
   "metadata": {},
   "source": [
    "## Adding a new term changed the predicted value"
   ]
  }
 ],
 "metadata": {
  "kernelspec": {
   "display_name": "Python 3 (ipykernel)",
   "language": "python",
   "name": "python3"
  },
  "language_info": {
   "codemirror_mode": {
    "name": "ipython",
    "version": 3
   },
   "file_extension": ".py",
   "mimetype": "text/x-python",
   "name": "python",
   "nbconvert_exporter": "python",
   "pygments_lexer": "ipython3",
   "version": "3.9.18"
  }
 },
 "nbformat": 4,
 "nbformat_minor": 5
}
