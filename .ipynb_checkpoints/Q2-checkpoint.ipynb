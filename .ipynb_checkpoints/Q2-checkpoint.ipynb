{
 "cells": [
  {
   "cell_type": "markdown",
   "id": "7404ba69",
   "metadata": {},
   "source": [
    "## Part a"
   ]
  },
  {
   "cell_type": "code",
   "execution_count": 1,
   "id": "7094108d",
   "metadata": {},
   "outputs": [],
   "source": [
    "import numpy as np"
   ]
  },
  {
   "cell_type": "code",
   "execution_count": null,
   "id": "8392f43d",
   "metadata": {},
   "outputs": [],
   "source": [
    "x = np.array([0.1, 0.2, 0.3, 0.4])\n",
    "f_x = np.array([[-0.62049958], [-0.28398668], [0.00660095], [0.24842440]])"
   ]
  },
  {
   "cell_type": "code",
   "execution_count": null,
   "id": "9a6373f1",
   "metadata": {},
   "outputs": [],
   "source": [
    "def divided_difference_table(x, f_x):\n",
    "    n = len(x)\n",
    "    # make n x n matrix\n",
    "    table = np.zeros((n,n))\n",
    "    \n",
    "    # initialize first col\n",
    "    for i in range(n):\n",
    "        table[i][0] = f_x[i]\n",
    "    \n",
    "    # divided difference algorithm\n",
    "    for j in range(1,n):\n",
    "        for i in range(n-j):\n",
    "            table[i][j] = (table[i+1][j-1] - table[i][j-1]) / (x[i+j] - x[i])\n",
    "        \n",
    "    return table"
   ]
  },
  {
   "cell_type": "code",
   "execution_count": null,
   "id": "6cd58343",
   "metadata": {},
   "outputs": [],
   "source": [
    "def newton_polynomial(x, x_pred, coefficients):\n",
    "    total = 0\n",
    "    n = len(x)\n",
    "    for i in range(n):\n",
    "        temp = coefficients[i]\n",
    "        for j in range(i):\n",
    "            temp *= x_pred-x[j]\n",
    "        total += temp\n",
    "        \n",
    "    return total"
   ]
  },
  {
   "cell_type": "code",
   "execution_count": null,
   "id": "24a96af0",
   "metadata": {},
   "outputs": [],
   "source": [
    "coeffs = table[0]\n",
    "x_pred = .25\n",
    "pred = newton_polynomial(x, x_pred, coeffs)\n",
    "pred"
   ]
  }
 ],
 "metadata": {
  "kernelspec": {
   "display_name": "Python 3 (ipykernel)",
   "language": "python",
   "name": "python3"
  },
  "language_info": {
   "codemirror_mode": {
    "name": "ipython",
    "version": 3
   },
   "file_extension": ".py",
   "mimetype": "text/x-python",
   "name": "python",
   "nbconvert_exporter": "python",
   "pygments_lexer": "ipython3",
   "version": "3.9.18"
  }
 },
 "nbformat": 4,
 "nbformat_minor": 5
}
